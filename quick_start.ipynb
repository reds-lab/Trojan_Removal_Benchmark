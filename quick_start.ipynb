{
 "cells": [
  {
   "cell_type": "code",
   "execution_count": 1,
   "metadata": {},
   "outputs": [],
   "source": [
    "from poison_methods import *\n",
    "from util import *\n",
    "from models import *\n",
    "from poisoned_function import *\n",
    "\n",
    "set_seed(0)"
   ]
  },
  {
   "cell_type": "code",
   "execution_count": 2,
   "metadata": {},
   "outputs": [],
   "source": [
    "attack_list = [Badnets_cifar10_6_ResNet18_05, \n",
    "               Badnets_cifar10_2_ResNet18_01, \n",
    "               Badnets_cifar10_2_ResNet18_005, \n",
    "               Blended_iNaturalist_14_TinyViT_05]"
   ]
  },
  {
   "cell_type": "code",
   "execution_count": 3,
   "metadata": {},
   "outputs": [],
   "source": [
    "def defense_function(net, val_dataset):\n",
    "    # TODO: Implemnet your defense and return the cleaned model\n",
    "    return net"
   ]
  },
  {
   "cell_type": "code",
   "execution_count": 4,
   "metadata": {},
   "outputs": [
    {
     "name": "stdout",
     "output_type": "stream",
     "text": [
      "--------------------Start evaluation on 0 model--------------------\n",
      "Result for model before defense\n",
      "ACC：93.533%\n",
      "ASR: 96.802%\n",
      "PACC: 3.025%\n",
      "Result for model after defense\n",
      "ACC：93.533%\n",
      "ASR: 96.802%\n",
      "PACC: 3.025%\n",
      "--------------------Start evaluation on 1 model--------------------\n",
      "Result for model before defense\n",
      "ACC：93.367%\n",
      "ASR: 92.840%\n",
      "PACC: 6.938%\n",
      "Result for model after defense\n",
      "ACC：93.367%\n",
      "ASR: 92.840%\n",
      "PACC: 6.938%\n",
      "--------------------Start evaluation on 2 model--------------------\n",
      "Result for model before defense\n",
      "ACC：87.289%\n",
      "ASR: 94.123%\n",
      "PACC: 5.481%\n",
      "Result for model after defense\n",
      "ACC：87.289%\n",
      "ASR: 94.123%\n",
      "PACC: 5.481%\n",
      "--------------------Start evaluation on 3 model--------------------\n",
      "Result for model before defense\n",
      "ACC：84.572%\n",
      "ASR: 100.000%\n",
      "PACC: 0.000%\n",
      "Result for model after defense\n",
      "ACC：84.572%\n",
      "ASR: 100.000%\n",
      "PACC: 0.000%\n"
     ]
    }
   ],
   "source": [
    "test_defense_list(defense_function, attack_list)"
   ]
  }
 ],
 "metadata": {
  "kernelspec": {
   "display_name": "Python 3",
   "language": "python",
   "name": "python3"
  },
  "language_info": {
   "codemirror_mode": {
    "name": "ipython",
    "version": 3
   },
   "file_extension": ".py",
   "mimetype": "text/x-python",
   "name": "python",
   "nbconvert_exporter": "python",
   "pygments_lexer": "ipython3",
   "version": "3.9.12"
  },
  "orig_nbformat": 4
 },
 "nbformat": 4,
 "nbformat_minor": 2
}
